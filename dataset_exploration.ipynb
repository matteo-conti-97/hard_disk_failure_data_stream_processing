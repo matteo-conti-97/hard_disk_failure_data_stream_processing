{
 "cells": [
  {
   "cell_type": "code",
   "execution_count": 41,
   "metadata": {},
   "outputs": [
    {
     "name": "stderr",
     "output_type": "stream",
     "text": [
      "/tmp/ipykernel_72470/2948557605.py:5: DtypeWarning: Columns (3,4,12) have mixed types. Specify dtype option on import or set low_memory=False.\n",
      "  df = pd.read_csv(file_path, usecols=cols)\n"
     ]
    }
   ],
   "source": [
    "import pandas as pd\n",
    "file_path = './data/dataset/raw_data_medium-utv_sorted.csv'\n",
    "cols = ['date', 'serial_number', 'model', 'failure', 'vault_id', 's9_power_on_hours']\n",
    "\n",
    "df = pd.read_csv(file_path, usecols=cols)\n"
   ]
  },
  {
   "cell_type": "code",
   "execution_count": 42,
   "metadata": {},
   "outputs": [],
   "source": [
    "#Print column names and theit NaN count\n",
    "def print_nan_count_per_column(df):\n",
    "    nan_count_per_column = df.isna().sum()\n",
    "    print(nan_count_per_column)\n",
    "\n",
    "def print_wrong_vault_id_count(df):\n",
    "    wrong_vault_id_count = df[df['vault_id'] == 'vault_id'].shape[0]\n",
    "    print('Wrong vault id count', wrong_vault_id_count)\n",
    "\n",
    "def print_wrong_s9_power_on_hours_count(df):\n",
    "    wrong_s9_power_on_hours_count = df[df['s9_power_on_hours'] < 1].shape[0]\n",
    "    print('Wrong s9_power_on_hours count', wrong_s9_power_on_hours_count)\n",
    "\n",
    "# Print column names and their data types\n",
    "def print_col_types(df):\n",
    "    for column, dtype in df.dtypes.items():\n",
    "        print(f\"Column: {column}, Dtype: {dtype}\")\n",
    "\n",
    "def print_wrong_serial_count(df):\n",
    "    wrong_serial_count = df['serial_number'].str.contains('-').sum()\n",
    "    print('Wrong serial number count', wrong_serial_count)\n",
    "        \n"
   ]
  },
  {
   "cell_type": "code",
   "execution_count": 43,
   "metadata": {},
   "outputs": [
    {
     "name": "stdout",
     "output_type": "stream",
     "text": [
      "Wrong vault id count 4\n",
      "date                    0\n",
      "serial_number           0\n",
      "model                   0\n",
      "failure                 0\n",
      "vault_id                0\n",
      "s9_power_on_hours    5141\n",
      "dtype: int64\n",
      "Column: date, Dtype: object\n",
      "Column: serial_number, Dtype: object\n",
      "Column: model, Dtype: object\n",
      "Column: failure, Dtype: object\n",
      "Column: vault_id, Dtype: object\n",
      "Column: s9_power_on_hours, Dtype: object\n",
      "Wrong serial number count 3156\n"
     ]
    }
   ],
   "source": [
    "print_wrong_vault_id_count(df)\n",
    "print_nan_count_per_column(df)\n",
    "print_col_types(df)\n",
    "print_wrong_serial_count(df)"
   ]
  },
  {
   "cell_type": "code",
   "execution_count": 44,
   "metadata": {},
   "outputs": [],
   "source": [
    "df = df.dropna(axis=0) #Drop row with NaNs\n",
    "df = df[~( df['vault_id'] == 'vault_id')] #Drop rows with 'vault_id' as value"
   ]
  },
  {
   "cell_type": "code",
   "execution_count": 45,
   "metadata": {},
   "outputs": [
    {
     "name": "stdout",
     "output_type": "stream",
     "text": [
      "date                 0\n",
      "serial_number        0\n",
      "model                0\n",
      "failure              0\n",
      "vault_id             0\n",
      "s9_power_on_hours    0\n",
      "dtype: int64\n",
      "Column: date, Dtype: object\n",
      "Column: serial_number, Dtype: object\n",
      "Column: model, Dtype: object\n",
      "Column: failure, Dtype: object\n",
      "Column: vault_id, Dtype: object\n",
      "Column: s9_power_on_hours, Dtype: object\n"
     ]
    }
   ],
   "source": [
    "print_nan_count_per_column(df)\n",
    "print_wrong_vault_id_count\n",
    "print_col_types(df)"
   ]
  },
  {
   "cell_type": "code",
   "execution_count": 46,
   "metadata": {},
   "outputs": [],
   "source": [
    "def can_convert_to_int(value):\n",
    "    try:\n",
    "        int(value)\n",
    "        return True\n",
    "    except ValueError:\n",
    "        print('Cannot convert to int: ', value)\n",
    "        return False\n",
    "    \n",
    "# Column to check\n",
    "column_to_check = 'vault_id'\n",
    "\n",
    "# Check which elements of the column can be converted to int\n",
    "convertible_indices = [idx for idx, value in enumerate(df[column_to_check]) if can_convert_to_int(value)]"
   ]
  },
  {
   "cell_type": "code",
   "execution_count": 47,
   "metadata": {},
   "outputs": [
    {
     "name": "stdout",
     "output_type": "stream",
     "text": [
      "Column: date, Dtype: object\n",
      "Column: serial_number, Dtype: object\n",
      "Column: model, Dtype: object\n",
      "Column: failure, Dtype: object\n",
      "Column: vault_id, Dtype: object\n",
      "Column: s9_power_on_hours, Dtype: object\n"
     ]
    },
    {
     "data": {
      "text/plain": [
       "17969154"
      ]
     },
     "execution_count": 47,
     "metadata": {},
     "output_type": "execute_result"
    }
   ],
   "source": [
    "print_col_types(df)\n",
    "df.head()\n",
    "df.size"
   ]
  },
  {
   "cell_type": "code",
   "execution_count": 48,
   "metadata": {},
   "outputs": [
    {
     "name": "stdout",
     "output_type": "stream",
     "text": [
      "Wrong s9_power_on_hours count 218\n"
     ]
    }
   ],
   "source": [
    "df['date'] = pd.to_datetime(df['date'])\n",
    "df['date'] = df['date'].dt.strftime('%Y-%m-%d')\n",
    "df['date'] = pd.to_datetime(df['date'])\n",
    "df['serial_number'] = df['serial_number'].astype(str)\n",
    "df['model'] = df['model'].astype(str)\n",
    "df['failure'] = df['failure'].astype(bool)\n",
    "df['vault_id'] = df['vault_id'].astype(int)\n",
    "df['s9_power_on_hours'] = df['s9_power_on_hours'].astype(float)\n",
    "df['s9_power_on_hours'] = df['s9_power_on_hours'].astype(float)\n",
    "\n",
    "print_wrong_s9_power_on_hours_count(df)"
   ]
  },
  {
   "cell_type": "code",
   "execution_count": 49,
   "metadata": {},
   "outputs": [
    {
     "name": "stdout",
     "output_type": "stream",
     "text": [
      "Series([], Name: s9_power_on_hours, dtype: float64)\n"
     ]
    }
   ],
   "source": [
    "# Check for decimal values different from 0\n",
    "decimal_diff_from_zero = df['s9_power_on_hours'].apply(lambda x: x != int(x))\n",
    "\n",
    "# Filter values with non-zero decimal part\n",
    "values_with_nonzero_decimal = df['s9_power_on_hours'][decimal_diff_from_zero]\n",
    "\n",
    "# Print the filtered values\n",
    "print(values_with_nonzero_decimal)"
   ]
  },
  {
   "cell_type": "code",
   "execution_count": null,
   "metadata": {},
   "outputs": [
    {
     "ename": "",
     "evalue": "",
     "output_type": "error",
     "traceback": [
      "\u001b[1;31mRunning cells with '.conda (Python 3.10.13)' requires the ipykernel package.\n",
      "\u001b[1;31mRun the following command to install 'ipykernel' into the Python environment. \n",
      "\u001b[1;31mCommand: 'conda install -p /home/luca-fedora/Documents/BotTelegram/.conda ipykernel --update-deps --force-reinstall'"
     ]
    }
   ],
   "source": [
    "import pyarrow.parquet as pq\n",
    "import pandas as pd\n",
    "\n",
    "def is_parquet_file(file_path):\n",
    "    try:\n",
    "        # Try to read the Parquet file metadata\n",
    "        pq.read_metadata(file_path)\n",
    "        return True\n",
    "    except (pq.lib.ArrowIOError, ValueError):\n",
    "        # If an error is raised, it is not a Parquet file\n",
    "        return False\n",
    "\n",
    "# Example usage\n",
    "file_path = '~/Desktop/disk_data.parquet'\n",
    "if is_parquet_file(file_path):\n",
    "    print(f\"{file_path} is a Parquet file.\")\n",
    "else:\n",
    "    print(f\"{file_path} is not a Parquet file.\")\n",
    "    \n"
   ]
  },
  {
   "cell_type": "code",
   "execution_count": null,
   "metadata": {},
   "outputs": [
    {
     "ename": "",
     "evalue": "",
     "output_type": "error",
     "traceback": [
      "\u001b[1;31mRunning cells with '.conda (Python 3.10.13)' requires the ipykernel package.\n",
      "\u001b[1;31mRun the following command to install 'ipykernel' into the Python environment. \n",
      "\u001b[1;31mCommand: 'conda install -p /home/luca-fedora/Documents/BotTelegram/.conda ipykernel --update-deps --force-reinstall'"
     ]
    }
   ],
   "source": [
    "#Read data\n",
    "dfp = pd.read_parquet(file_path)\n",
    "dfp.head()"
   ]
  },
  {
   "cell_type": "code",
   "execution_count": null,
   "metadata": {},
   "outputs": [
    {
     "ename": "",
     "evalue": "",
     "output_type": "error",
     "traceback": [
      "\u001b[1;31mRunning cells with '.conda (Python 3.10.13)' requires the ipykernel package.\n",
      "\u001b[1;31mRun the following command to install 'ipykernel' into the Python environment. \n",
      "\u001b[1;31mCommand: 'conda install -p /home/luca-fedora/Documents/BotTelegram/.conda ipykernel --update-deps --force-reinstall'"
     ]
    }
   ],
   "source": [
    "print_col_types(dfp)"
   ]
  },
  {
   "cell_type": "code",
   "execution_count": null,
   "metadata": {},
   "outputs": [
    {
     "ename": "",
     "evalue": "",
     "output_type": "error",
     "traceback": [
      "\u001b[1;31mRunning cells with '.conda (Python 3.10.13)' requires the ipykernel package.\n",
      "\u001b[1;31mRun the following command to install 'ipykernel' into the Python environment. \n",
      "\u001b[1;31mCommand: 'conda install -p /home/luca-fedora/Documents/BotTelegram/.conda ipykernel --update-deps --force-reinstall'"
     ]
    }
   ],
   "source": []
  }
 ],
 "metadata": {
  "kernelspec": {
   "display_name": "Python 3",
   "language": "python",
   "name": "python3"
  },
  "language_info": {
   "codemirror_mode": {
    "name": "ipython",
    "version": 3
   },
   "file_extension": ".py",
   "mimetype": "text/x-python",
   "name": "python",
   "nbconvert_exporter": "python",
   "pygments_lexer": "ipython3",
   "version": "3.11.5"
  }
 },
 "nbformat": 4,
 "nbformat_minor": 2
}
